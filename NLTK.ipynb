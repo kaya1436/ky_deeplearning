{
  "nbformat": 4,
  "nbformat_minor": 0,
  "metadata": {
    "colab": {
      "name": "NLTK.ipynb",
      "provenance": [],
      "collapsed_sections": []
    },
    "kernelspec": {
      "name": "python3",
      "display_name": "Python 3"
    },
    "language_info": {
      "name": "python"
    }
  },
  "cells": [
    {
      "cell_type": "code",
      "metadata": {
        "id": "UVJlVOIaJD_a"
      },
      "source": [
        "# example = \"Family is not an important thing. It's everything. He has large house.\""
      ],
      "execution_count": 17,
      "outputs": []
    },
    {
      "cell_type": "code",
      "metadata": {
        "id": "XFiPNukbbtDF"
      },
      "source": [
        "example = \"A barber is a person. a barber is good person. a barber is huge person. he Knew A Secret! The Secret He Kept is huge secret. Huge secret. His barber kept his word. a barber kept his word. His barber kept his secret. But keeping and keeping such a huge secret to himself was driving the barber crazy. the barber went up a huge mountain.\""
      ],
      "execution_count": 18,
      "outputs": []
    },
    {
      "cell_type": "code",
      "metadata": {
        "id": "IxmtqVCdSvDh",
        "colab": {
          "base_uri": "https://localhost:8080/"
        },
        "outputId": "b32161ba-55b2-4b83-d0dc-ee258e6ab1b8"
      },
      "source": [
        "import nltk\n",
        "nltk.download('punkt')"
      ],
      "execution_count": 19,
      "outputs": [
        {
          "output_type": "stream",
          "text": [
            "[nltk_data] Downloading package punkt to /root/nltk_data...\n",
            "[nltk_data]   Package punkt is already up-to-date!\n"
          ],
          "name": "stdout"
        },
        {
          "output_type": "execute_result",
          "data": {
            "text/plain": [
              "True"
            ]
          },
          "metadata": {
            "tags": []
          },
          "execution_count": 19
        }
      ]
    },
    {
      "cell_type": "code",
      "metadata": {
        "colab": {
          "base_uri": "https://localhost:8080/"
        },
        "id": "jS0AgE8iTHP4",
        "outputId": "290d3636-d77c-46e8-af87-f3c01fa51d86"
      },
      "source": [
        "tok_words = nltk.tokenize.word_tokenize(example)\n",
        "print(tok_words)"
      ],
      "execution_count": 20,
      "outputs": [
        {
          "output_type": "stream",
          "text": [
            "['A', 'barber', 'is', 'a', 'person', '.', 'a', 'barber', 'is', 'good', 'person', '.', 'a', 'barber', 'is', 'huge', 'person', '.', 'he', 'Knew', 'A', 'Secret', '!', 'The', 'Secret', 'He', 'Kept', 'is', 'huge', 'secret', '.', 'Huge', 'secret', '.', 'His', 'barber', 'kept', 'his', 'word', '.', 'a', 'barber', 'kept', 'his', 'word', '.', 'His', 'barber', 'kept', 'his', 'secret', '.', 'But', 'keeping', 'and', 'keeping', 'such', 'a', 'huge', 'secret', 'to', 'himself', 'was', 'driving', 'the', 'barber', 'crazy', '.', 'the', 'barber', 'went', 'up', 'a', 'huge', 'mountain', '.']\n"
          ],
          "name": "stdout"
        }
      ]
    },
    {
      "cell_type": "code",
      "metadata": {
        "id": "szQHJjlhVv1I",
        "colab": {
          "base_uri": "https://localhost:8080/"
        },
        "outputId": "0e663aaf-368a-4b67-882d-bc77295868f7"
      },
      "source": [
        "nltk.download('stopwords')"
      ],
      "execution_count": 21,
      "outputs": [
        {
          "output_type": "stream",
          "text": [
            "[nltk_data] Downloading package stopwords to /root/nltk_data...\n",
            "[nltk_data]   Package stopwords is already up-to-date!\n"
          ],
          "name": "stdout"
        },
        {
          "output_type": "execute_result",
          "data": {
            "text/plain": [
              "True"
            ]
          },
          "metadata": {
            "tags": []
          },
          "execution_count": 21
        }
      ]
    },
    {
      "cell_type": "code",
      "metadata": {
        "colab": {
          "base_uri": "https://localhost:8080/"
        },
        "id": "J03KHP-RTSvP",
        "outputId": "9c468dd1-7940-4495-e22e-8470e6f2c082"
      },
      "source": [
        "stop_words = nltk.corpus.stopwords.words('english')\n",
        "len(stop_words)"
      ],
      "execution_count": 22,
      "outputs": [
        {
          "output_type": "execute_result",
          "data": {
            "text/plain": [
              "179"
            ]
          },
          "metadata": {
            "tags": []
          },
          "execution_count": 22
        }
      ]
    },
    {
      "cell_type": "markdown",
      "metadata": {
        "id": "umdfgl80XoN1"
      },
      "source": [
        "### ['Family', 'is', 'not', 'an', 'important', 'thing', '.', 'It', \"'s\", 'everything', '.']"
      ]
    },
    {
      "cell_type": "code",
      "metadata": {
        "colab": {
          "base_uri": "https://localhost:8080/"
        },
        "id": "3ASqYUleXnm-",
        "outputId": "634d027f-4cb6-49db-a681-3ed7f23f9989"
      },
      "source": [
        "stop_words.extend(['.'])\n",
        "len(stop_words)"
      ],
      "execution_count": 23,
      "outputs": [
        {
          "output_type": "execute_result",
          "data": {
            "text/plain": [
              "180"
            ]
          },
          "metadata": {
            "tags": []
          },
          "execution_count": 23
        }
      ]
    },
    {
      "cell_type": "code",
      "metadata": {
        "id": "TQZutx1mY1ee",
        "colab": {
          "base_uri": "https://localhost:8080/"
        },
        "outputId": "2624c4f2-8e51-4f67-d7d0-b1f55ebd6306"
      },
      "source": [
        "stop_words = set(stop_words)\n",
        "len(stop_words)"
      ],
      "execution_count": 24,
      "outputs": [
        {
          "output_type": "execute_result",
          "data": {
            "text/plain": [
              "180"
            ]
          },
          "metadata": {
            "tags": []
          },
          "execution_count": 24
        }
      ]
    },
    {
      "cell_type": "code",
      "metadata": {
        "id": "LAftbZ6tVM1d"
      },
      "source": [
        "# 불용어 처리\n",
        "for tok in tok_words:\n",
        "  # print(tok)\n",
        "  if tok not in stop_words:\n",
        "    print(tok)"
      ],
      "execution_count": null,
      "outputs": []
    },
    {
      "cell_type": "code",
      "metadata": {
        "colab": {
          "base_uri": "https://localhost:8080/"
        },
        "id": "l_SzK-uZXO7l",
        "outputId": "ae9de68a-b441-487d-a83b-55593f0354de"
      },
      "source": [
        "lemm = nltk.stem.WordNetLemmatizer()\n",
        "lemm"
      ],
      "execution_count": 26,
      "outputs": [
        {
          "output_type": "execute_result",
          "data": {
            "text/plain": [
              "<WordNetLemmatizer>"
            ]
          },
          "metadata": {
            "tags": []
          },
          "execution_count": 26
        }
      ]
    },
    {
      "cell_type": "code",
      "metadata": {
        "id": "67OGOGw4a3Be",
        "colab": {
          "base_uri": "https://localhost:8080/"
        },
        "outputId": "ff91e5b2-2e9f-4418-da51-8e4d63fd81b2"
      },
      "source": [
        "nltk.download('wordnet')"
      ],
      "execution_count": 27,
      "outputs": [
        {
          "output_type": "stream",
          "text": [
            "[nltk_data] Downloading package wordnet to /root/nltk_data...\n",
            "[nltk_data]   Package wordnet is already up-to-date!\n"
          ],
          "name": "stdout"
        },
        {
          "output_type": "execute_result",
          "data": {
            "text/plain": [
              "True"
            ]
          },
          "metadata": {
            "tags": []
          },
          "execution_count": 27
        }
      ]
    },
    {
      "cell_type": "code",
      "metadata": {
        "id": "fzs0PeUSaIuE",
        "colab": {
          "base_uri": "https://localhost:8080/"
        },
        "outputId": "77c2f002-cce8-4cf4-adbd-382782d669ee"
      },
      "source": [
        "sentence = list()\n",
        "for tok in tok_words:\n",
        "  # print(tok, ', ', lemm.lemmatize(tok))\n",
        "  sentence.append(lemm.lemmatize(tok))\n",
        "\n",
        "print(sentence)"
      ],
      "execution_count": 29,
      "outputs": [
        {
          "output_type": "stream",
          "text": [
            "['A', 'barber', 'is', 'a', 'person', '.', 'a', 'barber', 'is', 'good', 'person', '.', 'a', 'barber', 'is', 'huge', 'person', '.', 'he', 'Knew', 'A', 'Secret', '!', 'The', 'Secret', 'He', 'Kept', 'is', 'huge', 'secret', '.', 'Huge', 'secret', '.', 'His', 'barber', 'kept', 'his', 'word', '.', 'a', 'barber', 'kept', 'his', 'word', '.', 'His', 'barber', 'kept', 'his', 'secret', '.', 'But', 'keeping', 'and', 'keeping', 'such', 'a', 'huge', 'secret', 'to', 'himself', 'wa', 'driving', 'the', 'barber', 'crazy', '.', 'the', 'barber', 'went', 'up', 'a', 'huge', 'mountain', '.']\n"
          ],
          "name": "stdout"
        }
      ]
    },
    {
      "cell_type": "code",
      "metadata": {
        "id": "vJf-HOGWbL_1"
      },
      "source": [
        "import tensorflow as tf"
      ],
      "execution_count": 30,
      "outputs": []
    },
    {
      "cell_type": "code",
      "metadata": {
        "colab": {
          "base_uri": "https://localhost:8080/"
        },
        "id": "i9Ux3b2Ajzdc",
        "outputId": "9f8d06d0-075b-4934-98bc-fb72f3897e0f"
      },
      "source": [
        "tokenizer = tf.keras.preprocessing.text.Tokenizer()\n",
        "tokenizer"
      ],
      "execution_count": 31,
      "outputs": [
        {
          "output_type": "execute_result",
          "data": {
            "text/plain": [
              "<keras_preprocessing.text.Tokenizer at 0x7fe176099650>"
            ]
          },
          "metadata": {
            "tags": []
          },
          "execution_count": 31
        }
      ]
    },
    {
      "cell_type": "code",
      "metadata": {
        "id": "hCGAk2Gij0Yp"
      },
      "source": [
        "tokenizer.fit_on_texts(sentence)"
      ],
      "execution_count": 32,
      "outputs": []
    },
    {
      "cell_type": "code",
      "metadata": {
        "colab": {
          "base_uri": "https://localhost:8080/"
        },
        "id": "Cpiryczmj1as",
        "outputId": "87461123-659f-4600-d946-9d72e523ff99"
      },
      "source": [
        "print(tokenizer.word_index)"
      ],
      "execution_count": 33,
      "outputs": [
        {
          "output_type": "stream",
          "text": [
            "{'a': 1, 'barber': 2, 'secret': 3, 'huge': 4, 'his': 5, 'is': 6, 'kept': 7, 'person': 8, 'the': 9, 'he': 10, 'word': 11, 'keeping': 12, 'good': 13, 'knew': 14, 'but': 15, 'and': 16, 'such': 17, 'to': 18, 'himself': 19, 'wa': 20, 'driving': 21, 'crazy': 22, 'went': 23, 'up': 24, 'mountain': 25}\n"
          ],
          "name": "stdout"
        }
      ]
    },
    {
      "cell_type": "code",
      "metadata": {
        "colab": {
          "base_uri": "https://localhost:8080/"
        },
        "id": "KuqE6nGzj2dH",
        "outputId": "22992bea-26a1-4dc8-819f-2b2626e290eb"
      },
      "source": [
        "print(tokenizer.word_counts)"
      ],
      "execution_count": 34,
      "outputs": [
        {
          "output_type": "stream",
          "text": [
            "OrderedDict([('a', 8), ('barber', 8), ('is', 4), ('person', 3), ('good', 1), ('huge', 5), ('he', 2), ('knew', 1), ('secret', 6), ('the', 3), ('kept', 4), ('his', 5), ('word', 2), ('but', 1), ('keeping', 2), ('and', 1), ('such', 1), ('to', 1), ('himself', 1), ('wa', 1), ('driving', 1), ('crazy', 1), ('went', 1), ('up', 1), ('mountain', 1)])\n"
          ],
          "name": "stdout"
        }
      ]
    },
    {
      "cell_type": "code",
      "metadata": {
        "colab": {
          "base_uri": "https://localhost:8080/"
        },
        "id": "fEShM4eLj4sE",
        "outputId": "08b3f7ec-1bb2-449a-a849-45803404d645"
      },
      "source": [
        "seq = tokenizer.texts_to_sequences(sentence)\n",
        "print(seq)"
      ],
      "execution_count": 35,
      "outputs": [
        {
          "output_type": "stream",
          "text": [
            "[[1], [2], [6], [1], [8], [], [1], [2], [6], [13], [8], [], [1], [2], [6], [4], [8], [], [10], [14], [1], [3], [], [9], [3], [10], [7], [6], [4], [3], [], [4], [3], [], [5], [2], [7], [5], [11], [], [1], [2], [7], [5], [11], [], [5], [2], [7], [5], [3], [], [15], [12], [16], [12], [17], [1], [4], [3], [18], [19], [20], [21], [9], [2], [22], [], [9], [2], [23], [24], [1], [4], [25], []]\n"
          ],
          "name": "stdout"
        }
      ]
    },
    {
      "cell_type": "code",
      "metadata": {
        "id": "Fo0PD_dnj5zi"
      },
      "source": [
        ""
      ],
      "execution_count": null,
      "outputs": []
    }
  ]
}