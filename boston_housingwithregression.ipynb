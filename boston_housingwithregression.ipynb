{
  "nbformat": 4,
  "nbformat_minor": 0,
  "metadata": {
    "colab": {
      "name": "boston_housingwithregression.ipynb",
      "provenance": [],
      "collapsed_sections": [],
      "authorship_tag": "ABX9TyPZU3iFRAcYJz7JtoBf6az1"
    },
    "kernelspec": {
      "name": "python3",
      "display_name": "Python 3"
    },
    "language_info": {
      "name": "python"
    }
  },
  "cells": [
    {
      "cell_type": "code",
      "metadata": {
        "id": "eM8BQWs_YNNK"
      },
      "source": [
        "import tensorflow as tf\n",
        "from tensorflow.keras.datasets.boston_housing import load_data"
      ],
      "execution_count": 28,
      "outputs": []
    },
    {
      "cell_type": "markdown",
      "metadata": {
        "id": "uGv-ipTi0-3L"
      },
      "source": [
        "# Dataset"
      ]
    },
    {
      "cell_type": "code",
      "metadata": {
        "colab": {
          "base_uri": "https://localhost:8080/"
        },
        "id": "-Cqk4cDDbQAM",
        "outputId": "a79fb318-f36b-4718-c265-f2f952916534"
      },
      "source": [
        "(x_train, y_train), (x_test, y_test) = load_data(path='boston_housing.npz', test_split=0.2, seed=113)\n",
        "x_train.shape, y_train.shape, x_test.shape, y_test.shape, type(x_train)"
      ],
      "execution_count": 29,
      "outputs": [
        {
          "output_type": "execute_result",
          "data": {
            "text/plain": [
              "((404, 13), (404,), (102, 13), (102,), numpy.ndarray)"
            ]
          },
          "metadata": {
            "tags": []
          },
          "execution_count": 29
        }
      ]
    },
    {
      "cell_type": "code",
      "metadata": {
        "id": "URR5J-CK1DGy"
      },
      "source": [
        "import pandas as pd"
      ],
      "execution_count": 30,
      "outputs": []
    },
    {
      "cell_type": "code",
      "metadata": {
        "colab": {
          "base_uri": "https://localhost:8080/"
        },
        "id": "nmRXWS5_1TTV",
        "outputId": "e51d663d-85f7-456e-e1e7-e6b2faedcf76"
      },
      "source": [
        "dfr = pd.DataFrame(x_train)\n",
        "dfr.info()"
      ],
      "execution_count": 31,
      "outputs": [
        {
          "output_type": "stream",
          "text": [
            "<class 'pandas.core.frame.DataFrame'>\n",
            "RangeIndex: 404 entries, 0 to 403\n",
            "Data columns (total 13 columns):\n",
            " #   Column  Non-Null Count  Dtype  \n",
            "---  ------  --------------  -----  \n",
            " 0   0       404 non-null    float64\n",
            " 1   1       404 non-null    float64\n",
            " 2   2       404 non-null    float64\n",
            " 3   3       404 non-null    float64\n",
            " 4   4       404 non-null    float64\n",
            " 5   5       404 non-null    float64\n",
            " 6   6       404 non-null    float64\n",
            " 7   7       404 non-null    float64\n",
            " 8   8       404 non-null    float64\n",
            " 9   9       404 non-null    float64\n",
            " 10  10      404 non-null    float64\n",
            " 11  11      404 non-null    float64\n",
            " 12  12      404 non-null    float64\n",
            "dtypes: float64(13)\n",
            "memory usage: 41.2 KB\n"
          ],
          "name": "stdout"
        }
      ]
    },
    {
      "cell_type": "code",
      "metadata": {
        "id": "Z-MounlXMSlq"
      },
      "source": [
        "import sqlite3"
      ],
      "execution_count": 32,
      "outputs": []
    },
    {
      "cell_type": "code",
      "metadata": {
        "id": "nEXCB-41MhZ0"
      },
      "source": [
        "connect = sqlite3.connect('./db.sqlite3')\n",
        "dfr.to_sql('boston_hosing_resource', connect, if_exists='append', index=False)"
      ],
      "execution_count": 33,
      "outputs": []
    },
    {
      "cell_type": "code",
      "metadata": {
        "id": "BXW9NqoBOIA5"
      },
      "source": [
        "df = pd.read_sql_query('select * from boston_hosing_resource', connect)"
      ],
      "execution_count": 34,
      "outputs": []
    },
    {
      "cell_type": "code",
      "metadata": {
        "colab": {
          "base_uri": "https://localhost:8080/",
          "height": 314
        },
        "id": "JjLJQji-1gcu",
        "outputId": "c41748b1-3c64-4265-f32e-d26a8fffd90b"
      },
      "source": [
        "df.describe()"
      ],
      "execution_count": 35,
      "outputs": [
        {
          "output_type": "execute_result",
          "data": {
            "text/html": [
              "<div>\n",
              "<style scoped>\n",
              "    .dataframe tbody tr th:only-of-type {\n",
              "        vertical-align: middle;\n",
              "    }\n",
              "\n",
              "    .dataframe tbody tr th {\n",
              "        vertical-align: top;\n",
              "    }\n",
              "\n",
              "    .dataframe thead th {\n",
              "        text-align: right;\n",
              "    }\n",
              "</style>\n",
              "<table border=\"1\" class=\"dataframe\">\n",
              "  <thead>\n",
              "    <tr style=\"text-align: right;\">\n",
              "      <th></th>\n",
              "      <th>0</th>\n",
              "      <th>1</th>\n",
              "      <th>2</th>\n",
              "      <th>3</th>\n",
              "      <th>4</th>\n",
              "      <th>5</th>\n",
              "      <th>6</th>\n",
              "      <th>7</th>\n",
              "      <th>8</th>\n",
              "      <th>9</th>\n",
              "      <th>10</th>\n",
              "      <th>11</th>\n",
              "      <th>12</th>\n",
              "    </tr>\n",
              "  </thead>\n",
              "  <tbody>\n",
              "    <tr>\n",
              "      <th>count</th>\n",
              "      <td>404.000000</td>\n",
              "      <td>404.000000</td>\n",
              "      <td>404.000000</td>\n",
              "      <td>404.000000</td>\n",
              "      <td>404.000000</td>\n",
              "      <td>404.000000</td>\n",
              "      <td>404.000000</td>\n",
              "      <td>404.000000</td>\n",
              "      <td>404.000000</td>\n",
              "      <td>404.000000</td>\n",
              "      <td>404.000000</td>\n",
              "      <td>404.000000</td>\n",
              "      <td>404.000000</td>\n",
              "    </tr>\n",
              "    <tr>\n",
              "      <th>mean</th>\n",
              "      <td>3.745111</td>\n",
              "      <td>11.480198</td>\n",
              "      <td>11.104431</td>\n",
              "      <td>0.061881</td>\n",
              "      <td>0.557356</td>\n",
              "      <td>6.267082</td>\n",
              "      <td>69.010644</td>\n",
              "      <td>3.740271</td>\n",
              "      <td>9.440594</td>\n",
              "      <td>405.898515</td>\n",
              "      <td>18.475990</td>\n",
              "      <td>354.783168</td>\n",
              "      <td>12.740817</td>\n",
              "    </tr>\n",
              "    <tr>\n",
              "      <th>std</th>\n",
              "      <td>9.240734</td>\n",
              "      <td>23.767711</td>\n",
              "      <td>6.811308</td>\n",
              "      <td>0.241238</td>\n",
              "      <td>0.117293</td>\n",
              "      <td>0.709788</td>\n",
              "      <td>27.940665</td>\n",
              "      <td>2.030215</td>\n",
              "      <td>8.698360</td>\n",
              "      <td>166.374543</td>\n",
              "      <td>2.200382</td>\n",
              "      <td>94.111148</td>\n",
              "      <td>7.254545</td>\n",
              "    </tr>\n",
              "    <tr>\n",
              "      <th>min</th>\n",
              "      <td>0.006320</td>\n",
              "      <td>0.000000</td>\n",
              "      <td>0.460000</td>\n",
              "      <td>0.000000</td>\n",
              "      <td>0.385000</td>\n",
              "      <td>3.561000</td>\n",
              "      <td>2.900000</td>\n",
              "      <td>1.129600</td>\n",
              "      <td>1.000000</td>\n",
              "      <td>188.000000</td>\n",
              "      <td>12.600000</td>\n",
              "      <td>0.320000</td>\n",
              "      <td>1.730000</td>\n",
              "    </tr>\n",
              "    <tr>\n",
              "      <th>25%</th>\n",
              "      <td>0.081437</td>\n",
              "      <td>0.000000</td>\n",
              "      <td>5.130000</td>\n",
              "      <td>0.000000</td>\n",
              "      <td>0.453000</td>\n",
              "      <td>5.874750</td>\n",
              "      <td>45.475000</td>\n",
              "      <td>2.077100</td>\n",
              "      <td>4.000000</td>\n",
              "      <td>279.000000</td>\n",
              "      <td>17.225000</td>\n",
              "      <td>374.672500</td>\n",
              "      <td>6.890000</td>\n",
              "    </tr>\n",
              "    <tr>\n",
              "      <th>50%</th>\n",
              "      <td>0.268880</td>\n",
              "      <td>0.000000</td>\n",
              "      <td>9.690000</td>\n",
              "      <td>0.000000</td>\n",
              "      <td>0.538000</td>\n",
              "      <td>6.198500</td>\n",
              "      <td>78.500000</td>\n",
              "      <td>3.142300</td>\n",
              "      <td>5.000000</td>\n",
              "      <td>330.000000</td>\n",
              "      <td>19.100000</td>\n",
              "      <td>391.250000</td>\n",
              "      <td>11.395000</td>\n",
              "    </tr>\n",
              "    <tr>\n",
              "      <th>75%</th>\n",
              "      <td>3.674808</td>\n",
              "      <td>12.500000</td>\n",
              "      <td>18.100000</td>\n",
              "      <td>0.000000</td>\n",
              "      <td>0.631000</td>\n",
              "      <td>6.609000</td>\n",
              "      <td>94.100000</td>\n",
              "      <td>5.118000</td>\n",
              "      <td>24.000000</td>\n",
              "      <td>666.000000</td>\n",
              "      <td>20.200000</td>\n",
              "      <td>396.157500</td>\n",
              "      <td>17.092500</td>\n",
              "    </tr>\n",
              "    <tr>\n",
              "      <th>max</th>\n",
              "      <td>88.976200</td>\n",
              "      <td>100.000000</td>\n",
              "      <td>27.740000</td>\n",
              "      <td>1.000000</td>\n",
              "      <td>0.871000</td>\n",
              "      <td>8.725000</td>\n",
              "      <td>100.000000</td>\n",
              "      <td>10.710300</td>\n",
              "      <td>24.000000</td>\n",
              "      <td>711.000000</td>\n",
              "      <td>22.000000</td>\n",
              "      <td>396.900000</td>\n",
              "      <td>37.970000</td>\n",
              "    </tr>\n",
              "  </tbody>\n",
              "</table>\n",
              "</div>"
            ],
            "text/plain": [
              "                0           1           2  ...          10          11          12\n",
              "count  404.000000  404.000000  404.000000  ...  404.000000  404.000000  404.000000\n",
              "mean     3.745111   11.480198   11.104431  ...   18.475990  354.783168   12.740817\n",
              "std      9.240734   23.767711    6.811308  ...    2.200382   94.111148    7.254545\n",
              "min      0.006320    0.000000    0.460000  ...   12.600000    0.320000    1.730000\n",
              "25%      0.081437    0.000000    5.130000  ...   17.225000  374.672500    6.890000\n",
              "50%      0.268880    0.000000    9.690000  ...   19.100000  391.250000   11.395000\n",
              "75%      3.674808   12.500000   18.100000  ...   20.200000  396.157500   17.092500\n",
              "max     88.976200  100.000000   27.740000  ...   22.000000  396.900000   37.970000\n",
              "\n",
              "[8 rows x 13 columns]"
            ]
          },
          "metadata": {
            "tags": []
          },
          "execution_count": 35
        }
      ]
    },
    {
      "cell_type": "code",
      "metadata": {
        "colab": {
          "base_uri": "https://localhost:8080/"
        },
        "id": "2uWiX2X42iUt",
        "outputId": "353b795a-5e14-4f49-b33f-eeb72b75ca84"
      },
      "source": [
        "from sklearn.preprocessing import StandardScaler\n",
        "scaler = StandardScaler()\n",
        "scaler.fit(x_train)"
      ],
      "execution_count": 36,
      "outputs": [
        {
          "output_type": "execute_result",
          "data": {
            "text/plain": [
              "StandardScaler(copy=True, with_mean=True, with_std=True)"
            ]
          },
          "metadata": {
            "tags": []
          },
          "execution_count": 36
        }
      ]
    },
    {
      "cell_type": "code",
      "metadata": {
        "colab": {
          "base_uri": "https://localhost:8080/"
        },
        "id": "iUwHSqNH3c0X",
        "outputId": "b48624c1-7fab-4bd3-8286-76b3976a0879"
      },
      "source": [
        "x_train = scaler.transform(x_train)\n",
        "x_test = scaler.transform(x_test)\n",
        "x_train.shape, x_test.shape"
      ],
      "execution_count": 37,
      "outputs": [
        {
          "output_type": "execute_result",
          "data": {
            "text/plain": [
              "((404, 13), (102, 13))"
            ]
          },
          "metadata": {
            "tags": []
          },
          "execution_count": 37
        }
      ]
    },
    {
      "cell_type": "code",
      "metadata": {
        "colab": {
          "base_uri": "https://localhost:8080/",
          "height": 398
        },
        "id": "i3BXO0i539M8",
        "outputId": "7fa0fb59-639d-494d-9163-f49c9e57c87d"
      },
      "source": [
        "df = pd.DataFrame(x_train)\n",
        "df.describe()"
      ],
      "execution_count": 38,
      "outputs": [
        {
          "output_type": "execute_result",
          "data": {
            "text/html": [
              "<div>\n",
              "<style scoped>\n",
              "    .dataframe tbody tr th:only-of-type {\n",
              "        vertical-align: middle;\n",
              "    }\n",
              "\n",
              "    .dataframe tbody tr th {\n",
              "        vertical-align: top;\n",
              "    }\n",
              "\n",
              "    .dataframe thead th {\n",
              "        text-align: right;\n",
              "    }\n",
              "</style>\n",
              "<table border=\"1\" class=\"dataframe\">\n",
              "  <thead>\n",
              "    <tr style=\"text-align: right;\">\n",
              "      <th></th>\n",
              "      <th>0</th>\n",
              "      <th>1</th>\n",
              "      <th>2</th>\n",
              "      <th>3</th>\n",
              "      <th>4</th>\n",
              "      <th>5</th>\n",
              "      <th>6</th>\n",
              "      <th>7</th>\n",
              "      <th>8</th>\n",
              "      <th>9</th>\n",
              "      <th>10</th>\n",
              "      <th>11</th>\n",
              "      <th>12</th>\n",
              "    </tr>\n",
              "  </thead>\n",
              "  <tbody>\n",
              "    <tr>\n",
              "      <th>count</th>\n",
              "      <td>4.040000e+02</td>\n",
              "      <td>4.040000e+02</td>\n",
              "      <td>4.040000e+02</td>\n",
              "      <td>4.040000e+02</td>\n",
              "      <td>4.040000e+02</td>\n",
              "      <td>4.040000e+02</td>\n",
              "      <td>4.040000e+02</td>\n",
              "      <td>4.040000e+02</td>\n",
              "      <td>4.040000e+02</td>\n",
              "      <td>4.040000e+02</td>\n",
              "      <td>4.040000e+02</td>\n",
              "      <td>4.040000e+02</td>\n",
              "      <td>4.040000e+02</td>\n",
              "    </tr>\n",
              "    <tr>\n",
              "      <th>mean</th>\n",
              "      <td>-1.015414e-16</td>\n",
              "      <td>1.099231e-17</td>\n",
              "      <td>1.743380e-15</td>\n",
              "      <td>-1.266863e-16</td>\n",
              "      <td>-5.253773e-15</td>\n",
              "      <td>6.414149e-15</td>\n",
              "      <td>2.984411e-16</td>\n",
              "      <td>4.946538e-16</td>\n",
              "      <td>1.126711e-17</td>\n",
              "      <td>-1.981363e-16</td>\n",
              "      <td>2.366864e-14</td>\n",
              "      <td>5.956800e-15</td>\n",
              "      <td>6.139204e-16</td>\n",
              "    </tr>\n",
              "    <tr>\n",
              "      <th>std</th>\n",
              "      <td>1.001240e+00</td>\n",
              "      <td>1.001240e+00</td>\n",
              "      <td>1.001240e+00</td>\n",
              "      <td>1.001240e+00</td>\n",
              "      <td>1.001240e+00</td>\n",
              "      <td>1.001240e+00</td>\n",
              "      <td>1.001240e+00</td>\n",
              "      <td>1.001240e+00</td>\n",
              "      <td>1.001240e+00</td>\n",
              "      <td>1.001240e+00</td>\n",
              "      <td>1.001240e+00</td>\n",
              "      <td>1.001240e+00</td>\n",
              "      <td>1.001240e+00</td>\n",
              "    </tr>\n",
              "    <tr>\n",
              "      <th>min</th>\n",
              "      <td>-4.051005e-01</td>\n",
              "      <td>-4.836155e-01</td>\n",
              "      <td>-1.564696e+00</td>\n",
              "      <td>-2.568327e-01</td>\n",
              "      <td>-1.471269e+00</td>\n",
              "      <td>-3.817250e+00</td>\n",
              "      <td>-2.369042e+00</td>\n",
              "      <td>-1.287503e+00</td>\n",
              "      <td>-9.715693e-01</td>\n",
              "      <td>-1.311311e+00</td>\n",
              "      <td>-2.673752e+00</td>\n",
              "      <td>-3.771101e+00</td>\n",
              "      <td>-1.519664e+00</td>\n",
              "    </tr>\n",
              "    <tr>\n",
              "      <th>25%</th>\n",
              "      <td>-3.969615e-01</td>\n",
              "      <td>-4.836155e-01</td>\n",
              "      <td>-8.782218e-01</td>\n",
              "      <td>-2.568327e-01</td>\n",
              "      <td>-8.908055e-01</td>\n",
              "      <td>-5.534305e-01</td>\n",
              "      <td>-8.433882e-01</td>\n",
              "      <td>-8.202251e-01</td>\n",
              "      <td>-6.262491e-01</td>\n",
              "      <td>-7.636737e-01</td>\n",
              "      <td>-5.692381e-01</td>\n",
              "      <td>2.116008e-01</td>\n",
              "      <td>-8.075036e-01</td>\n",
              "    </tr>\n",
              "    <tr>\n",
              "      <th>50%</th>\n",
              "      <td>-3.766520e-01</td>\n",
              "      <td>-4.836155e-01</td>\n",
              "      <td>-2.079167e-01</td>\n",
              "      <td>-2.568327e-01</td>\n",
              "      <td>-1.652266e-01</td>\n",
              "      <td>-9.674263e-02</td>\n",
              "      <td>3.400464e-01</td>\n",
              "      <td>-2.949009e-01</td>\n",
              "      <td>-5.111423e-01</td>\n",
              "      <td>-4.567563e-01</td>\n",
              "      <td>2.839433e-01</td>\n",
              "      <td>3.879673e-01</td>\n",
              "      <td>-1.857436e-01</td>\n",
              "    </tr>\n",
              "    <tr>\n",
              "      <th>75%</th>\n",
              "      <td>-7.617386e-03</td>\n",
              "      <td>4.296024e-02</td>\n",
              "      <td>1.028326e+00</td>\n",
              "      <td>-2.568327e-01</td>\n",
              "      <td>6.286420e-01</td>\n",
              "      <td>4.823165e-01</td>\n",
              "      <td>8.990647e-01</td>\n",
              "      <td>6.794540e-01</td>\n",
              "      <td>1.675886e+00</td>\n",
              "      <td>1.565287e+00</td>\n",
              "      <td>7.844764e-01</td>\n",
              "      <td>4.401777e-01</td>\n",
              "      <td>6.005999e-01</td>\n",
              "    </tr>\n",
              "    <tr>\n",
              "      <th>max</th>\n",
              "      <td>9.234847e+00</td>\n",
              "      <td>3.728990e+00</td>\n",
              "      <td>2.445374e+00</td>\n",
              "      <td>3.893584e+00</td>\n",
              "      <td>2.677335e+00</td>\n",
              "      <td>3.467186e+00</td>\n",
              "      <td>1.110488e+00</td>\n",
              "      <td>3.437406e+00</td>\n",
              "      <td>1.675886e+00</td>\n",
              "      <td>1.836097e+00</td>\n",
              "      <td>1.603531e+00</td>\n",
              "      <td>4.480771e-01</td>\n",
              "      <td>3.482019e+00</td>\n",
              "    </tr>\n",
              "  </tbody>\n",
              "</table>\n",
              "</div>"
            ],
            "text/plain": [
              "                 0             1   ...            11            12\n",
              "count  4.040000e+02  4.040000e+02  ...  4.040000e+02  4.040000e+02\n",
              "mean  -1.015414e-16  1.099231e-17  ...  5.956800e-15  6.139204e-16\n",
              "std    1.001240e+00  1.001240e+00  ...  1.001240e+00  1.001240e+00\n",
              "min   -4.051005e-01 -4.836155e-01  ... -3.771101e+00 -1.519664e+00\n",
              "25%   -3.969615e-01 -4.836155e-01  ...  2.116008e-01 -8.075036e-01\n",
              "50%   -3.766520e-01 -4.836155e-01  ...  3.879673e-01 -1.857436e-01\n",
              "75%   -7.617386e-03  4.296024e-02  ...  4.401777e-01  6.005999e-01\n",
              "max    9.234847e+00  3.728990e+00  ...  4.480771e-01  3.482019e+00\n",
              "\n",
              "[8 rows x 13 columns]"
            ]
          },
          "metadata": {
            "tags": []
          },
          "execution_count": 38
        }
      ]
    },
    {
      "cell_type": "code",
      "metadata": {
        "id": "ik8gtKIhPEs2"
      },
      "source": [
        "df.to_sql('boston_housing_scale_x_train', connect, if_exists='append', index=False)"
      ],
      "execution_count": 39,
      "outputs": []
    },
    {
      "cell_type": "code",
      "metadata": {
        "id": "kiP06U58Pis_"
      },
      "source": [
        "dfr = pd.read_sql_query('select * from boston_housing_scale_x_train', connect)"
      ],
      "execution_count": 40,
      "outputs": []
    },
    {
      "cell_type": "code",
      "metadata": {
        "colab": {
          "base_uri": "https://localhost:8080/",
          "height": 398
        },
        "id": "Sx2AhlL9QRp0",
        "outputId": "783da501-8637-4bd3-9f8b-265a647bcc95"
      },
      "source": [
        "dfr.describe()"
      ],
      "execution_count": 41,
      "outputs": [
        {
          "output_type": "execute_result",
          "data": {
            "text/html": [
              "<div>\n",
              "<style scoped>\n",
              "    .dataframe tbody tr th:only-of-type {\n",
              "        vertical-align: middle;\n",
              "    }\n",
              "\n",
              "    .dataframe tbody tr th {\n",
              "        vertical-align: top;\n",
              "    }\n",
              "\n",
              "    .dataframe thead th {\n",
              "        text-align: right;\n",
              "    }\n",
              "</style>\n",
              "<table border=\"1\" class=\"dataframe\">\n",
              "  <thead>\n",
              "    <tr style=\"text-align: right;\">\n",
              "      <th></th>\n",
              "      <th>0</th>\n",
              "      <th>1</th>\n",
              "      <th>2</th>\n",
              "      <th>3</th>\n",
              "      <th>4</th>\n",
              "      <th>5</th>\n",
              "      <th>6</th>\n",
              "      <th>7</th>\n",
              "      <th>8</th>\n",
              "      <th>9</th>\n",
              "      <th>10</th>\n",
              "      <th>11</th>\n",
              "      <th>12</th>\n",
              "    </tr>\n",
              "  </thead>\n",
              "  <tbody>\n",
              "    <tr>\n",
              "      <th>count</th>\n",
              "      <td>1.212000e+03</td>\n",
              "      <td>1.212000e+03</td>\n",
              "      <td>1.212000e+03</td>\n",
              "      <td>1.212000e+03</td>\n",
              "      <td>1.212000e+03</td>\n",
              "      <td>1.212000e+03</td>\n",
              "      <td>1.212000e+03</td>\n",
              "      <td>1.212000e+03</td>\n",
              "      <td>1.212000e+03</td>\n",
              "      <td>1.212000e+03</td>\n",
              "      <td>1.212000e+03</td>\n",
              "      <td>1.212000e+03</td>\n",
              "      <td>1.212000e+03</td>\n",
              "    </tr>\n",
              "    <tr>\n",
              "      <th>mean</th>\n",
              "      <td>-1.041979e-16</td>\n",
              "      <td>1.245795e-17</td>\n",
              "      <td>1.753639e-15</td>\n",
              "      <td>-1.301672e-16</td>\n",
              "      <td>-5.251208e-15</td>\n",
              "      <td>6.417721e-15</td>\n",
              "      <td>2.988076e-16</td>\n",
              "      <td>4.931882e-16</td>\n",
              "      <td>9.618269e-18</td>\n",
              "      <td>-1.979531e-16</td>\n",
              "      <td>2.366570e-14</td>\n",
              "      <td>5.948693e-15</td>\n",
              "      <td>6.150196e-16</td>\n",
              "    </tr>\n",
              "    <tr>\n",
              "      <th>std</th>\n",
              "      <td>1.000413e+00</td>\n",
              "      <td>1.000413e+00</td>\n",
              "      <td>1.000413e+00</td>\n",
              "      <td>1.000413e+00</td>\n",
              "      <td>1.000413e+00</td>\n",
              "      <td>1.000413e+00</td>\n",
              "      <td>1.000413e+00</td>\n",
              "      <td>1.000413e+00</td>\n",
              "      <td>1.000413e+00</td>\n",
              "      <td>1.000413e+00</td>\n",
              "      <td>1.000413e+00</td>\n",
              "      <td>1.000413e+00</td>\n",
              "      <td>1.000413e+00</td>\n",
              "    </tr>\n",
              "    <tr>\n",
              "      <th>min</th>\n",
              "      <td>-4.051005e-01</td>\n",
              "      <td>-4.836155e-01</td>\n",
              "      <td>-1.564696e+00</td>\n",
              "      <td>-2.568327e-01</td>\n",
              "      <td>-1.471269e+00</td>\n",
              "      <td>-3.817250e+00</td>\n",
              "      <td>-2.369042e+00</td>\n",
              "      <td>-1.287503e+00</td>\n",
              "      <td>-9.715693e-01</td>\n",
              "      <td>-1.311311e+00</td>\n",
              "      <td>-2.673752e+00</td>\n",
              "      <td>-3.771101e+00</td>\n",
              "      <td>-1.519664e+00</td>\n",
              "    </tr>\n",
              "    <tr>\n",
              "      <th>25%</th>\n",
              "      <td>-3.969615e-01</td>\n",
              "      <td>-4.836155e-01</td>\n",
              "      <td>-8.782218e-01</td>\n",
              "      <td>-2.568327e-01</td>\n",
              "      <td>-8.908055e-01</td>\n",
              "      <td>-5.534305e-01</td>\n",
              "      <td>-8.433882e-01</td>\n",
              "      <td>-8.202251e-01</td>\n",
              "      <td>-6.262491e-01</td>\n",
              "      <td>-7.636737e-01</td>\n",
              "      <td>-5.692381e-01</td>\n",
              "      <td>2.116008e-01</td>\n",
              "      <td>-8.075036e-01</td>\n",
              "    </tr>\n",
              "    <tr>\n",
              "      <th>50%</th>\n",
              "      <td>-3.766520e-01</td>\n",
              "      <td>-4.836155e-01</td>\n",
              "      <td>-2.079167e-01</td>\n",
              "      <td>-2.568327e-01</td>\n",
              "      <td>-1.652266e-01</td>\n",
              "      <td>-9.674263e-02</td>\n",
              "      <td>3.400464e-01</td>\n",
              "      <td>-2.949009e-01</td>\n",
              "      <td>-5.111423e-01</td>\n",
              "      <td>-4.567563e-01</td>\n",
              "      <td>2.839433e-01</td>\n",
              "      <td>3.879673e-01</td>\n",
              "      <td>-1.857436e-01</td>\n",
              "    </tr>\n",
              "    <tr>\n",
              "      <th>75%</th>\n",
              "      <td>-7.617386e-03</td>\n",
              "      <td>4.296024e-02</td>\n",
              "      <td>1.028326e+00</td>\n",
              "      <td>-2.568327e-01</td>\n",
              "      <td>6.286420e-01</td>\n",
              "      <td>4.823165e-01</td>\n",
              "      <td>8.990647e-01</td>\n",
              "      <td>6.794540e-01</td>\n",
              "      <td>1.675886e+00</td>\n",
              "      <td>1.565287e+00</td>\n",
              "      <td>7.844764e-01</td>\n",
              "      <td>4.401777e-01</td>\n",
              "      <td>6.005999e-01</td>\n",
              "    </tr>\n",
              "    <tr>\n",
              "      <th>max</th>\n",
              "      <td>9.234847e+00</td>\n",
              "      <td>3.728990e+00</td>\n",
              "      <td>2.445374e+00</td>\n",
              "      <td>3.893584e+00</td>\n",
              "      <td>2.677335e+00</td>\n",
              "      <td>3.467186e+00</td>\n",
              "      <td>1.110488e+00</td>\n",
              "      <td>3.437406e+00</td>\n",
              "      <td>1.675886e+00</td>\n",
              "      <td>1.836097e+00</td>\n",
              "      <td>1.603531e+00</td>\n",
              "      <td>4.480771e-01</td>\n",
              "      <td>3.482019e+00</td>\n",
              "    </tr>\n",
              "  </tbody>\n",
              "</table>\n",
              "</div>"
            ],
            "text/plain": [
              "                  0             1  ...            11            12\n",
              "count  1.212000e+03  1.212000e+03  ...  1.212000e+03  1.212000e+03\n",
              "mean  -1.041979e-16  1.245795e-17  ...  5.948693e-15  6.150196e-16\n",
              "std    1.000413e+00  1.000413e+00  ...  1.000413e+00  1.000413e+00\n",
              "min   -4.051005e-01 -4.836155e-01  ... -3.771101e+00 -1.519664e+00\n",
              "25%   -3.969615e-01 -4.836155e-01  ...  2.116008e-01 -8.075036e-01\n",
              "50%   -3.766520e-01 -4.836155e-01  ...  3.879673e-01 -1.857436e-01\n",
              "75%   -7.617386e-03  4.296024e-02  ...  4.401777e-01  6.005999e-01\n",
              "max    9.234847e+00  3.728990e+00  ...  4.480771e-01  3.482019e+00\n",
              "\n",
              "[8 rows x 13 columns]"
            ]
          },
          "metadata": {
            "tags": []
          },
          "execution_count": 41
        }
      ]
    },
    {
      "cell_type": "markdown",
      "metadata": {
        "id": "k6NhDvgEx6Cz"
      },
      "source": [
        "# Model and fit"
      ]
    },
    {
      "cell_type": "code",
      "metadata": {
        "colab": {
          "base_uri": "https://localhost:8080/"
        },
        "id": "uLryjb5RePfU",
        "outputId": "6b5702a7-b32a-48f6-c233-f2d86ba369cf"
      },
      "source": [
        "model = tf.keras.models.Sequential()\n",
        "model.add(tf.keras.Input(shape=(13))) # input layer\n",
        "\n",
        "# tf.keras.activations.relu()\n",
        "model.add(tf.keras.layers.Dense(128, activation='relu')) # 기능 layer\n",
        "model.add(tf.keras.layers.Dense(128, activation='relu')) # hidden layer\n",
        "model.add(tf.keras.layers.Dense(128, activation='relu')) # hidden layer\n",
        "model.add(tf.keras.layers.Dense(64, activation='relu')) # hidden layer\n",
        "model.add(tf.keras.layers.Dense(32, activation='relu')) # hidden layer\n",
        "\n",
        "model.add(tf.keras.layers.Dense(1,)) # output layer \n",
        "\n",
        "# sgd = tf.keras.optimizers.SGD(\n",
        "#     learning_rate=0.001,\n",
        "#     momentum=0.004,\n",
        "# )\n",
        "# model.compile(optimizer=sgd, loss='mse', metrics=['mae'])\n",
        "model.compile(optimizer='adam', loss='mse', metrics=['mae'])"
      ],
      "execution_count": 42,
      "outputs": [
        {
          "output_type": "stream",
          "text": [
            "WARNING:tensorflow:Please add `keras.layers.InputLayer` instead of `keras.Input` to Sequential model. `keras.Input` is intended to be used by Functional model.\n"
          ],
          "name": "stdout"
        }
      ]
    },
    {
      "cell_type": "code",
      "metadata": {
        "id": "CLsvxFRSqi9E"
      },
      "source": [
        "tf.keras.utils.plot_model(model, show_shapes=True)"
      ],
      "execution_count": null,
      "outputs": []
    },
    {
      "cell_type": "code",
      "metadata": {
        "id": "fIMp1BWfrDso",
        "colab": {
          "base_uri": "https://localhost:8080/"
        },
        "outputId": "557b893b-9af1-4964-9fd2-a8be2be4e56a"
      },
      "source": [
        "model.summary()"
      ],
      "execution_count": 44,
      "outputs": [
        {
          "output_type": "stream",
          "text": [
            "Model: \"sequential\"\n",
            "_________________________________________________________________\n",
            "Layer (type)                 Output Shape              Param #   \n",
            "=================================================================\n",
            "dense (Dense)                (None, 128)               1792      \n",
            "_________________________________________________________________\n",
            "dense_1 (Dense)              (None, 128)               16512     \n",
            "_________________________________________________________________\n",
            "dense_2 (Dense)              (None, 128)               16512     \n",
            "_________________________________________________________________\n",
            "dense_3 (Dense)              (None, 64)                8256      \n",
            "_________________________________________________________________\n",
            "dense_4 (Dense)              (None, 32)                2080      \n",
            "_________________________________________________________________\n",
            "dense_5 (Dense)              (None, 1)                 33        \n",
            "=================================================================\n",
            "Total params: 45,185\n",
            "Trainable params: 45,185\n",
            "Non-trainable params: 0\n",
            "_________________________________________________________________\n"
          ],
          "name": "stdout"
        }
      ]
    },
    {
      "cell_type": "code",
      "metadata": {
        "id": "5cXBgRbMrNNi"
      },
      "source": [
        "hist = model.fit(x_train, y_train, epochs=500, validation_split=0.3)"
      ],
      "execution_count": null,
      "outputs": []
    },
    {
      "cell_type": "markdown",
      "metadata": {
        "id": "vS-07K4EwSXr"
      },
      "source": [
        "# evaluation"
      ]
    },
    {
      "cell_type": "code",
      "metadata": {
        "colab": {
          "base_uri": "https://localhost:8080/"
        },
        "id": "rqhkWRf0gEbS",
        "outputId": "4b85cb78-2b2a-4b1e-8aad-ea23c8dcb58e"
      },
      "source": [
        "hist.history.keys()"
      ],
      "execution_count": 46,
      "outputs": [
        {
          "output_type": "execute_result",
          "data": {
            "text/plain": [
              "dict_keys(['loss', 'mae', 'val_loss', 'val_mae'])"
            ]
          },
          "metadata": {
            "tags": []
          },
          "execution_count": 46
        }
      ]
    },
    {
      "cell_type": "code",
      "metadata": {
        "colab": {
          "base_uri": "https://localhost:8080/",
          "height": 265
        },
        "id": "YJyLma-mhZKV",
        "outputId": "08ec76a9-f39b-46d5-b0de-247d9f7a4642"
      },
      "source": [
        "import matplotlib.pyplot as plt\n",
        "\n",
        "plt.plot(hist.history['loss'], 'b--')\n",
        "plt.plot(hist.history['val_loss'])\n",
        "plt.show()"
      ],
      "execution_count": 47,
      "outputs": [
        {
          "output_type": "display_data",
          "data": {
            "image/png": "[encoded data removed]",
            "text/plain": [
              "<Figure size 432x288 with 1 Axes>"
            ]
          },
          "metadata": {
            "tags": [],
            "needs_background": "light"
          }
        }
      ]
    },
    {
      "cell_type": "code",
      "metadata": {
        "id": "hyygv2-PtkPC"
      },
      "source": [
        "# model.evaluate(x_train, y_train) # activation=sigmoid - loss: 36.9019 - mae: 3.8349"
      ],
      "execution_count": 48,
      "outputs": []
    },
    {
      "cell_type": "code",
      "metadata": {
        "id": "DHxmdhyYcR6Q"
      },
      "source": [
        "# model.evaluate(x_test, y_test) # activation=sigmoid - loss: 36.8748 - mae: 3.9508"
      ],
      "execution_count": 49,
      "outputs": []
    },
    {
      "cell_type": "code",
      "metadata": {
        "colab": {
          "base_uri": "https://localhost:8080/"
        },
        "id": "A6eUSGiqXwkR",
        "outputId": "d24ebc66-36a5-4f0a-ee2e-66bbc6652d01"
      },
      "source": [
        "model.evaluate(x_train, y_train) # activation=relu - loss: 3.7859 - mae: 1.4240"
      ],
      "execution_count": 50,
      "outputs": [
        {
          "output_type": "stream",
          "text": [
            "13/13 [==============================] - 0s 1ms/step - loss: 5.6628 - mae: 1.0038\n"
          ],
          "name": "stdout"
        },
        {
          "output_type": "execute_result",
          "data": {
            "text/plain": [
              "[5.662840366363525, 1.0037509202957153]"
            ]
          },
          "metadata": {
            "tags": []
          },
          "execution_count": 50
        }
      ]
    },
    {
      "cell_type": "markdown",
      "metadata": {
        "id": "XvIHsILDwfI9"
      },
      "source": [
        "# Service"
      ]
    },
    {
      "cell_type": "code",
      "metadata": {
        "colab": {
          "base_uri": "https://localhost:8080/"
        },
        "id": "gnqENEQBw-Qj",
        "outputId": "d89f2ca6-cdaf-4ba0-8e80-88a49d451238"
      },
      "source": [
        "x_train[10]"
      ],
      "execution_count": 51,
      "outputs": [
        {
          "output_type": "execute_result",
          "data": {
            "text/plain": [
              "array([ 0.63391647, -0.48361547,  1.0283258 , -0.25683275,  1.15788777,\n",
              "        0.19313958,  1.11048828, -1.03628262,  1.67588577,  1.5652875 ,\n",
              "        0.78447637,  0.22689422,  1.04466491])"
            ]
          },
          "metadata": {
            "tags": []
          },
          "execution_count": 51
        }
      ]
    },
    {
      "cell_type": "code",
      "metadata": {
        "colab": {
          "base_uri": "https://localhost:8080/"
        },
        "id": "M_5Efpj5wb0N",
        "outputId": "b9e2f656-a574-4031-907c-0ab5ef2f4df1"
      },
      "source": [
        "model.predict([[ 0.63391647, -0.48361547,  1.0283258 , -0.25683275,  1.15788777,\n",
        "        0.19313958,  1.11048828, -1.03628262,  1.67588577,  1.5652875 ,\n",
        "        0.78447637,  0.22689422,  1.04466491]])"
      ],
      "execution_count": 52,
      "outputs": [
        {
          "output_type": "execute_result",
          "data": {
            "text/plain": [
              "array([[12.209386]], dtype=float32)"
            ]
          },
          "metadata": {
            "tags": []
          },
          "execution_count": 52
        }
      ]
    },
    {
      "cell_type": "code",
      "metadata": {
        "colab": {
          "base_uri": "https://localhost:8080/"
        },
        "id": "lsCFklIWwpRQ",
        "outputId": "00a0d2e6-dc21-4bad-f5d1-eabb78a59c45"
      },
      "source": [
        "y_train[10]"
      ],
      "execution_count": 53,
      "outputs": [
        {
          "output_type": "execute_result",
          "data": {
            "text/plain": [
              "12.1"
            ]
          },
          "metadata": {
            "tags": []
          },
          "execution_count": 53
        }
      ]
    },
    {
      "cell_type": "markdown",
      "metadata": {
        "id": "KnQYbRWHIYDx"
      },
      "source": [
        "# Tensorboard lab"
      ]
    },
    {
      "cell_type": "code",
      "metadata": {
        "colab": {
          "base_uri": "https://localhost:8080/"
        },
        "id": "ANHNVqnu5ltI",
        "outputId": "7e79c3aa-5319-40a1-eee5-5379ba0cc2d6"
      },
      "source": [
        "!pip install tensorboardcolab"
      ],
      "execution_count": 54,
      "outputs": [
        {
          "output_type": "stream",
          "text": [
            "Collecting tensorboardcolab\n",
            "  Downloading tensorboardcolab-0.0.22.tar.gz (2.5 kB)\n",
            "Building wheels for collected packages: tensorboardcolab\n",
            "  Building wheel for tensorboardcolab (setup.py) ... \u001b[?25l\u001b[?25hdone\n",
            "  Created wheel for tensorboardcolab: filename=tensorboardcolab-0.0.22-py3-none-any.whl size=3858 sha256=056fa08fb2a8a14af7df3c91818b50913b6ad47d4a260d05b2b5e1b5f053e73f\n",
            "  Stored in directory: /root/.cache/pip/wheels/69/4e/4a/1c6c267395cb10edded1050df12af165d3254cfce324e80941\n",
            "Successfully built tensorboardcolab\n",
            "Installing collected packages: tensorboardcolab\n",
            "Successfully installed tensorboardcolab-0.0.22\n"
          ],
          "name": "stdout"
        }
      ]
    },
    {
      "cell_type": "code",
      "metadata": {
        "colab": {
          "base_uri": "https://localhost:8080/"
        },
        "id": "dDCpM3CMIdCb",
        "outputId": "31e7867f-8c2c-496f-8f9e-a4845efd2eba"
      },
      "source": [
        "from tensorboardcolab import TensorBoardColab, TensorBoardColabCallback\n",
        "\n",
        "tbc=TensorBoardColab()"
      ],
      "execution_count": 55,
      "outputs": [
        {
          "output_type": "stream",
          "text": [
            "Wait for 8 seconds...\n",
            "TensorBoard link:\n",
            "https://b8eb1e8c9780.ngrok.io\n"
          ],
          "name": "stdout"
        }
      ]
    },
    {
      "cell_type": "code",
      "metadata": {
        "id": "Tfa6EkSNIgk0"
      },
      "source": [
        "model.fit(x_train, y_train, epochs=100, callbacks=[TensorBoardColabCallback(tbc)])"
      ],
      "execution_count": null,
      "outputs": []
    },
    {
      "cell_type": "code",
      "metadata": {
        "id": "ITUP1vWcIxou"
      },
      "source": [
        ""
      ],
      "execution_count": null,
      "outputs": []
    }
  ]
}