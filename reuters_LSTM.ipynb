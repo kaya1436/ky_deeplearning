{
  "nbformat": 4,
  "nbformat_minor": 0,
  "metadata": {
    "colab": {
      "name": "reuters_LSTM.ipynb",
      "provenance": [],
      "collapsed_sections": [],
      "authorship_tag": "ABX9TyM7hw/Tc9RK/JpirIJ6MXYN"
    },
    "kernelspec": {
      "name": "python3",
      "display_name": "Python 3"
    },
    "language_info": {
      "name": "python"
    }
  },
  "cells": [
    {
      "cell_type": "code",
      "metadata": {
        "id": "QFctLxaj-xuw"
      },
      "source": [
        "import tensorflow as tf"
      ],
      "execution_count": 1,
      "outputs": []
    },
    {
      "cell_type": "code",
      "metadata": {
        "colab": {
          "base_uri": "https://localhost:8080/"
        },
        "id": "OYFbLwQP4Jhm",
        "outputId": "f9a9fc87-8fb5-4d77-927a-a95ba6be0fe2"
      },
      "source": [
        "(x_train, y_train),(x_test, y_test) = tf.keras.datasets.reuters.load_data(num_words=10000)\n",
        "x_train.shape, y_train.shape, x_test.shape, y_test.shape"
      ],
      "execution_count": 2,
      "outputs": [
        {
          "output_type": "stream",
          "text": [
            "Downloading data from https://storage.googleapis.com/tensorflow/tf-keras-datasets/reuters.npz\n",
            "2113536/2110848 [==============================] - 0s 0us/step\n"
          ],
          "name": "stdout"
        },
        {
          "output_type": "stream",
          "text": [
            "/usr/local/lib/python3.7/dist-packages/tensorflow/python/keras/datasets/reuters.py:143: VisibleDeprecationWarning: Creating an ndarray from ragged nested sequences (which is a list-or-tuple of lists-or-tuples-or ndarrays with different lengths or shapes) is deprecated. If you meant to do this, you must specify 'dtype=object' when creating the ndarray\n",
            "  x_train, y_train = np.array(xs[:idx]), np.array(labels[:idx])\n",
            "/usr/local/lib/python3.7/dist-packages/tensorflow/python/keras/datasets/reuters.py:144: VisibleDeprecationWarning: Creating an ndarray from ragged nested sequences (which is a list-or-tuple of lists-or-tuples-or ndarrays with different lengths or shapes) is deprecated. If you meant to do this, you must specify 'dtype=object' when creating the ndarray\n",
            "  x_test, y_test = np.array(xs[idx:]), np.array(labels[idx:])\n"
          ],
          "name": "stderr"
        },
        {
          "output_type": "execute_result",
          "data": {
            "text/plain": [
              "((8982,), (8982,), (2246,), (2246,))"
            ]
          },
          "metadata": {
            "tags": []
          },
          "execution_count": 2
        }
      ]
    },
    {
      "cell_type": "code",
      "metadata": {
        "colab": {
          "base_uri": "https://localhost:8080/"
        },
        "id": "PF8dvzeq4MQR",
        "outputId": "c2f033d4-660d-4432-9cb2-a297e8ab4d7b"
      },
      "source": [
        "print(y_train[50], x_train[50])"
      ],
      "execution_count": 3,
      "outputs": [
        {
          "output_type": "stream",
          "text": [
            "4 [1, 1479, 1197, 71, 8, 25, 1479, 1197, 640, 71, 304, 471, 80, 9, 1379, 1901, 4530, 6797, 79, 5, 8144, 71, 175, 80, 58, 4, 1279, 5, 63, 32, 20, 5, 4, 326, 175, 80, 335, 7, 10, 845, 31, 4, 221, 9, 108, 259, 1479, 1197, 640, 8, 16, 600, 69, 68, 11, 15, 6, 8144, 21, 397, 321, 6, 438, 1761, 3072, 79, 5, 8144, 1040, 894, 1051, 617, 80, 4, 617, 80, 23, 1051, 172, 3814, 3206, 8144, 175, 79, 9, 1379, 6, 264, 395, 3814, 3206, 79, 1479, 1197, 9, 25, 323, 8, 4, 8144, 80, 23, 381, 43, 42, 205, 50, 77, 33, 909, 9, 3509, 22, 216, 6, 216, 17, 12]\n"
          ],
          "name": "stdout"
        }
      ]
    },
    {
      "cell_type": "code",
      "metadata": {
        "colab": {
          "base_uri": "https://localhost:8080/"
        },
        "id": "JOtVXmGD4OLa",
        "outputId": "997a5160-ec9a-4553-8724-0bd828a9540d"
      },
      "source": [
        "len(x_train[50]), len(x_train[400]), len(x_train[200])"
      ],
      "execution_count": 4,
      "outputs": [
        {
          "output_type": "execute_result",
          "data": {
            "text/plain": [
              "(118, 90, 212)"
            ]
          },
          "metadata": {
            "tags": []
          },
          "execution_count": 4
        }
      ]
    },
    {
      "cell_type": "code",
      "metadata": {
        "colab": {
          "base_uri": "https://localhost:8080/"
        },
        "id": "ZWFzwArs4PUX",
        "outputId": "a955116e-6c34-4e98-9896-7b32979b0886"
      },
      "source": [
        "pad_x_train = tf.keras.preprocessing.sequence.pad_sequences(x_train, maxlen=500)\n",
        "len(pad_x_train[50])"
      ],
      "execution_count": 5,
      "outputs": [
        {
          "output_type": "execute_result",
          "data": {
            "text/plain": [
              "500"
            ]
          },
          "metadata": {
            "tags": []
          },
          "execution_count": 5
        }
      ]
    },
    {
      "cell_type": "code",
      "metadata": {
        "id": "O42npG1B4QlN"
      },
      "source": [
        "import numpy as np"
      ],
      "execution_count": 6,
      "outputs": []
    },
    {
      "cell_type": "code",
      "metadata": {
        "colab": {
          "base_uri": "https://localhost:8080/"
        },
        "id": "Zq5NYeul4RsI",
        "outputId": "84b231df-84bb-4621-cb00-c289f07bf817"
      },
      "source": [
        "np.unique(y_train).shape, np.unique(y_train)"
      ],
      "execution_count": 7,
      "outputs": [
        {
          "output_type": "execute_result",
          "data": {
            "text/plain": [
              "((46,),\n",
              " array([ 0,  1,  2,  3,  4,  5,  6,  7,  8,  9, 10, 11, 12, 13, 14, 15, 16,\n",
              "        17, 18, 19, 20, 21, 22, 23, 24, 25, 26, 27, 28, 29, 30, 31, 32, 33,\n",
              "        34, 35, 36, 37, 38, 39, 40, 41, 42, 43, 44, 45]))"
            ]
          },
          "metadata": {
            "tags": []
          },
          "execution_count": 7
        }
      ]
    },
    {
      "cell_type": "markdown",
      "metadata": {
        "id": "UQmQOb_t4TmD"
      },
      "source": [
        "# make model"
      ]
    },
    {
      "cell_type": "code",
      "metadata": {
        "id": "zvlcEv4T4Ssq"
      },
      "source": [
        "model = tf.keras.models.Sequential()"
      ],
      "execution_count": 8,
      "outputs": []
    },
    {
      "cell_type": "code",
      "metadata": {
        "id": "KgQqnQ104lUG"
      },
      "source": [
        "model.add(tf.keras.layers.Embedding(input_length=500, input_dim=10000, output_dim=24)) # input layer\n",
        "model.add(tf.keras.layers.LSTM(24, return_sequences=True, activation='tanh'))\n",
        "model.add(tf.keras.layers.LSTM(12, activation='tanh'))\n",
        "# model.add(tf.keras.layers.Flatten()) # hidden layer\n",
        "model.add(tf.keras.layers.Dense(46, activation='softmax')) # output layer\n",
        "\n",
        "model.compile(optimizer='adam', loss='sparse_categorical_crossentropy', metrics=['acc']) # gadget"
      ],
      "execution_count": 9,
      "outputs": []
    },
    {
      "cell_type": "code",
      "metadata": {
        "id": "_xPpg5Cw4mVh"
      },
      "source": [
        "# hist = model.fit(pad_x_train, y_train, epochs=5, validation_split=0.3, batch_size=128)\n",
        "hist = model.fit(pad_x_train, y_train, epochs=100, validation_split=0.3, batch_size=256)"
      ],
      "execution_count": null,
      "outputs": []
    },
    {
      "cell_type": "markdown",
      "metadata": {
        "id": "Ng_3R3hB79oj"
      },
      "source": [
        "# Evaluation"
      ]
    },
    {
      "cell_type": "code",
      "metadata": {
        "colab": {
          "base_uri": "https://localhost:8080/"
        },
        "id": "yhUwHqfu4nxS",
        "outputId": "04c1425f-df48-403c-8791-f1154ef1e857"
      },
      "source": [
        "# 학습 시켰던 데이터\n",
        "model.evaluate(pad_x_train, y_train) # loss: 2.4050 - acc: 0.3517"
      ],
      "execution_count": 11,
      "outputs": [
        {
          "output_type": "stream",
          "text": [
            "281/281 [==============================] - 17s 59ms/step - loss: 1.0164 - acc: 0.7838\n"
          ],
          "name": "stdout"
        },
        {
          "output_type": "execute_result",
          "data": {
            "text/plain": [
              "[1.0163819789886475, 0.7837898135185242]"
            ]
          },
          "metadata": {
            "tags": []
          },
          "execution_count": 11
        }
      ]
    },
    {
      "cell_type": "code",
      "metadata": {
        "id": "oyup6W7Q8AM2"
      },
      "source": [
        "pad_x_train = tf.keras.preprocessing.sequence.pad_sequences(x_train, maxlen=500)\n",
        "pad_x_test = tf.keras.preprocessing.sequence.pad_sequences(x_test, maxlen=500)"
      ],
      "execution_count": 12,
      "outputs": []
    },
    {
      "cell_type": "code",
      "metadata": {
        "id": "O35eSJ2D8BHD"
      },
      "source": [
        "def pad_make(x_data):\n",
        "  pad_x = tf.keras.preprocessing.sequence.pad_sequences(x_data, maxlen=500)\n",
        "  return pad_x"
      ],
      "execution_count": 13,
      "outputs": []
    },
    {
      "cell_type": "code",
      "metadata": {
        "id": "01GTm3nt8A8F"
      },
      "source": [
        "pad_make_x = pad_make(x_test)"
      ],
      "execution_count": 14,
      "outputs": []
    },
    {
      "cell_type": "code",
      "metadata": {
        "colab": {
          "base_uri": "https://localhost:8080/"
        },
        "id": "ZLw4mwDf8Awo",
        "outputId": "89af4637-f7aa-418b-f961-d1d28d091f4c"
      },
      "source": [
        "model.evaluate(pad_make_x, y_test)"
      ],
      "execution_count": 15,
      "outputs": [
        {
          "output_type": "stream",
          "text": [
            "71/71 [==============================] - 4s 60ms/step - loss: 1.9359 - acc: 0.6064\n"
          ],
          "name": "stdout"
        },
        {
          "output_type": "execute_result",
          "data": {
            "text/plain": [
              "[1.9358940124511719, 0.6064113974571228]"
            ]
          },
          "metadata": {
            "tags": []
          },
          "execution_count": 15
        }
      ]
    },
    {
      "cell_type": "code",
      "metadata": {
        "colab": {
          "base_uri": "https://localhost:8080/"
        },
        "id": "cUn8i5978Euq",
        "outputId": "322f4773-6996-4644-f8a6-10fbe1598e3a"
      },
      "source": [
        "model.evaluate(pad_x_test, y_test)"
      ],
      "execution_count": 16,
      "outputs": [
        {
          "output_type": "stream",
          "text": [
            "71/71 [==============================] - 4s 59ms/step - loss: 1.9359 - acc: 0.6064\n"
          ],
          "name": "stdout"
        },
        {
          "output_type": "execute_result",
          "data": {
            "text/plain": [
              "[1.9358940124511719, 0.6064113974571228]"
            ]
          },
          "metadata": {
            "tags": []
          },
          "execution_count": 16
        }
      ]
    },
    {
      "cell_type": "code",
      "metadata": {
        "id": "8YJz6jqa8Emd"
      },
      "source": [
        "import matplotlib.pyplot as plt"
      ],
      "execution_count": 17,
      "outputs": []
    },
    {
      "cell_type": "code",
      "metadata": {
        "colab": {
          "base_uri": "https://localhost:8080/",
          "height": 265
        },
        "id": "yAK7f6yx8EhR",
        "outputId": "802da2b5-91cb-461f-8176-cde0df403c42"
      },
      "source": [
        "plt.plot(hist.history['loss'])\n",
        "plt.plot(hist.history['val_loss'],'r-')\n",
        "plt.show()"
      ],
      "execution_count": 18,
      "outputs": [
        {
          "output_type": "display_data",
          "data": {
            "image/png": "[encoded data removed]",
            "text/plain": [
              "<Figure size 432x288 with 1 Axes>"
            ]
          },
          "metadata": {
            "tags": [],
            "needs_background": "light"
          }
        }
      ]
    },
    {
      "cell_type": "code",
      "metadata": {
        "colab": {
          "base_uri": "https://localhost:8080/",
          "height": 265
        },
        "id": "JEXNuitO8Eb5",
        "outputId": "60b5370b-509e-4f8f-b8c2-bd6a98bb29f0"
      },
      "source": [
        "plt.plot(hist.history['acc'])\n",
        "plt.plot(hist.history['val_acc'],'r-')\n",
        "plt.show()"
      ],
      "execution_count": 19,
      "outputs": [
        {
          "output_type": "display_data",
          "data": {
            "image/png": "[encoded data removed]",
            "text/plain": [
              "<Figure size 432x288 with 1 Axes>"
            ]
          },
          "metadata": {
            "tags": [],
            "needs_background": "light"
          }
        }
      ]
    },
    {
      "cell_type": "code",
      "metadata": {
        "id": "Xe2P74lx8JOi"
      },
      "source": [
        "from sklearn.metrics import classification_report"
      ],
      "execution_count": 20,
      "outputs": []
    },
    {
      "cell_type": "code",
      "metadata": {
        "colab": {
          "base_uri": "https://localhost:8080/"
        },
        "id": "JU2XP0tJ8JKx",
        "outputId": "f683225c-4e73-410b-a344-d40b5df9c2a4"
      },
      "source": [
        "y_train_pred = model.predict(pad_x_train)\n",
        "y_train_pred[0]"
      ],
      "execution_count": 21,
      "outputs": [
        {
          "output_type": "execute_result",
          "data": {
            "text/plain": [
              "array([1.1133974e-04, 1.9083131e-03, 4.1176227e-05, 9.5160580e-01,\n",
              "       3.6584757e-02, 2.0488229e-05, 1.3206111e-05, 3.2183641e-05,\n",
              "       2.4918912e-04, 9.1662383e-05, 2.8973926e-04, 8.7703031e-04,\n",
              "       5.4646898e-05, 2.4174132e-04, 2.9715793e-05, 2.8649931e-05,\n",
              "       4.0496700e-03, 1.8319621e-04, 4.5075547e-05, 1.6983064e-03,\n",
              "       2.7781326e-04, 1.4439286e-04, 1.9774570e-05, 6.6510627e-05,\n",
              "       1.3911449e-05, 2.0848556e-05, 1.2289369e-05, 2.5014378e-05,\n",
              "       4.2119942e-04, 3.1184678e-05, 6.8533351e-05, 3.3680913e-05,\n",
              "       1.1010258e-05, 3.2911179e-05, 2.2129569e-04, 4.1586969e-05,\n",
              "       4.0929299e-05, 2.0794030e-05, 3.6382899e-05, 3.7109512e-05,\n",
              "       1.3729768e-04, 5.1578434e-05, 1.9946168e-05, 2.6343861e-05,\n",
              "       2.1531028e-05, 9.9728322e-06], dtype=float32)"
            ]
          },
          "metadata": {
            "tags": []
          },
          "execution_count": 21
        }
      ]
    },
    {
      "cell_type": "code",
      "metadata": {
        "id": "GmNUves-8JHG"
      },
      "source": [
        "import numpy as np"
      ],
      "execution_count": 22,
      "outputs": []
    },
    {
      "cell_type": "code",
      "metadata": {
        "colab": {
          "base_uri": "https://localhost:8080/"
        },
        "id": "Z5NFPs2h8Mep",
        "outputId": "1a6c3887-66a4-4c7b-ceaa-44b88a660987"
      },
      "source": [
        "y_pred = np.argmax(y_train_pred, axis=1)\n",
        "y_pred.shape"
      ],
      "execution_count": 23,
      "outputs": [
        {
          "output_type": "execute_result",
          "data": {
            "text/plain": [
              "(8982,)"
            ]
          },
          "metadata": {
            "tags": []
          },
          "execution_count": 23
        }
      ]
    },
    {
      "cell_type": "code",
      "metadata": {
        "colab": {
          "base_uri": "https://localhost:8080/"
        },
        "id": "sEAdQBHw8Mcf",
        "outputId": "3ba637c5-7a8f-4c64-dd70-d4258aebd513"
      },
      "source": [
        "len(y_train)"
      ],
      "execution_count": 24,
      "outputs": [
        {
          "output_type": "execute_result",
          "data": {
            "text/plain": [
              "8982"
            ]
          },
          "metadata": {
            "tags": []
          },
          "execution_count": 24
        }
      ]
    },
    {
      "cell_type": "code",
      "metadata": {
        "id": "VxfAWHpG8Man"
      },
      "source": [
        "print(classification_report(y_train, y_pred))"
      ],
      "execution_count": null,
      "outputs": []
    },
    {
      "cell_type": "code",
      "metadata": {
        "id": "zc4TQ7pw8MYL"
      },
      "source": [
        "y_test_pred = model.predict(pad_x_test)"
      ],
      "execution_count": 27,
      "outputs": []
    },
    {
      "cell_type": "code",
      "metadata": {
        "id": "SpOjFmPh8MVw"
      },
      "source": [
        "y_pred = np.argmax(y_test_pred, axis=1)"
      ],
      "execution_count": 28,
      "outputs": []
    },
    {
      "cell_type": "code",
      "metadata": {
        "id": "qBJp9lZ48Q2L"
      },
      "source": [
        "print(classification_report(y_test, y_pred))"
      ],
      "execution_count": null,
      "outputs": []
    },
    {
      "cell_type": "markdown",
      "metadata": {
        "id": "l71rfPzt8R7u"
      },
      "source": [
        "# Service"
      ]
    },
    {
      "cell_type": "code",
      "metadata": {
        "colab": {
          "base_uri": "https://localhost:8080/",
          "height": 204
        },
        "id": "TmF8KIPx8Qz8",
        "outputId": "3b3603f7-6125-4734-e0b8-86c127ba7e52"
      },
      "source": [
        "# 문장 입력\n",
        "# --> 숫자(사전을 기준) --> [, , , , ...] --> pad_sequence\n",
        "\n",
        "model.predict()"
      ],
      "execution_count": 32,
      "outputs": [
        {
          "output_type": "error",
          "ename": "TypeError",
          "evalue": "ignored",
          "traceback": [
            "\u001b[0;31m---------------------------------------------------------------------------\u001b[0m",
            "\u001b[0;31mTypeError\u001b[0m                                 Traceback (most recent call last)",
            "\u001b[0;32m<ipython-input-32-2cdfdb6d39d3>\u001b[0m in \u001b[0;36m<module>\u001b[0;34m()\u001b[0m\n\u001b[1;32m      2\u001b[0m \u001b[0;31m# --> 숫자(사전을 기준) --> [, , , , ...] --> pad_sequence\u001b[0m\u001b[0;34m\u001b[0m\u001b[0;34m\u001b[0m\u001b[0;34m\u001b[0m\u001b[0m\n\u001b[1;32m      3\u001b[0m \u001b[0;34m\u001b[0m\u001b[0m\n\u001b[0;32m----> 4\u001b[0;31m \u001b[0mmodel\u001b[0m\u001b[0;34m.\u001b[0m\u001b[0mpredict\u001b[0m\u001b[0;34m(\u001b[0m\u001b[0;34m)\u001b[0m\u001b[0;34m\u001b[0m\u001b[0;34m\u001b[0m\u001b[0m\n\u001b[0m",
            "\u001b[0;31mTypeError\u001b[0m: predict() missing 1 required positional argument: 'x'"
          ]
        }
      ]
    },
    {
      "cell_type": "code",
      "metadata": {
        "id": "8LSHKvix8Ajo"
      },
      "source": [
        ""
      ],
      "execution_count": null,
      "outputs": []
    }
  ]
}